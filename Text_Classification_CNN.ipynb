{
 "cells": [
  {
   "cell_type": "markdown",
   "metadata": {
    "id": "vGpZ_6uorQtP",
    "jp-MarkdownHeadingCollapsed": true,
    "tags": []
   },
   "source": [
    "# Joining Datasets"
   ]
  },
  {
   "cell_type": "code",
   "execution_count": 33,
   "metadata": {
    "colab": {
     "base_uri": "https://localhost:8080/"
    },
    "id": "e1ads2jErUlV",
    "outputId": "2f73198d-36f6-4d04-a74d-a35a2fd9f532"
   },
   "outputs": [
    {
     "name": "stdout",
     "output_type": "stream",
     "text": [
      "Mounted at /content/drive\n"
     ]
    }
   ],
   "source": [
    "import os\n",
    "from google.colab import drive\n",
    "drive.mount('/content/drive')"
   ]
  },
  {
   "cell_type": "code",
   "execution_count": 34,
   "metadata": {
    "id": "tsZgCwHyrUgF"
   },
   "outputs": [],
   "source": [
    "file_path = 'drive/MyDrive/Doc_classification_cnn/documents/'"
   ]
  },
  {
   "cell_type": "code",
   "execution_count": 37,
   "metadata": {
    "id": "Rumc7af3rUdQ"
   },
   "outputs": [],
   "source": [
    "text_data = [] \n",
    "label = []\n",
    "for file in os.listdir(file_path):\n",
    "    l = file.split(\"_\")[0]\n",
    "    \n",
    "    path = str(file_path) + str(file)\n",
    "\n",
    "    with open(path , 'rb') as f:\n",
    "        line = f.read()\n",
    "        text_data.append(line)\n",
    "\n",
    "    label.append(l)"
   ]
  },
  {
   "cell_type": "code",
   "execution_count": 38,
   "metadata": {
    "id": "afHfJAXYrUaa"
   },
   "outputs": [],
   "source": [
    "import pandas as pd\n",
    "data = pd.DataFrame({'text':text_data,'labels':label})"
   ]
  },
  {
   "cell_type": "code",
   "execution_count": 39,
   "metadata": {
    "id": "72u1JzqDrqCz"
   },
   "outputs": [],
   "source": [
    "uni_label = list(data['labels'].value_counts().index)\n",
    "uni_label = sorted(uni_label)\n",
    "\n",
    "convert_label_to_num = {}\n",
    "\n",
    "for i, l in enumerate(uni_label):\n",
    "    convert_label_to_num[l] = i"
   ]
  },
  {
   "cell_type": "code",
   "execution_count": 40,
   "metadata": {
    "colab": {
     "base_uri": "https://localhost:8080/"
    },
    "id": "xLOPx2amrqAj",
    "outputId": "7940dff7-d2cd-4e84-bee0-22d0e5170d94"
   },
   "outputs": [
    {
     "data": {
      "text/plain": [
       "{'alt.atheism': 0,\n",
       " 'comp.graphics': 1,\n",
       " 'comp.os.ms-windows.misc': 2,\n",
       " 'comp.sys.ibm.pc.hardware': 3,\n",
       " 'comp.sys.mac.hardware': 4,\n",
       " 'comp.windows.x': 5,\n",
       " 'misc.forsale': 6,\n",
       " 'rec.autos': 7,\n",
       " 'rec.motorcycles': 8,\n",
       " 'rec.sport.baseball': 9,\n",
       " 'rec.sport.hockey': 10,\n",
       " 'sci.crypt': 11,\n",
       " 'sci.electronics': 12,\n",
       " 'sci.med': 13,\n",
       " 'sci.space': 14,\n",
       " 'soc.religion.christian': 15,\n",
       " 'talk.politics.guns': 16,\n",
       " 'talk.politics.mideast': 17,\n",
       " 'talk.politics.misc': 18,\n",
       " 'talk.religion.misc': 19}"
      ]
     },
     "execution_count": 40,
     "metadata": {},
     "output_type": "execute_result"
    }
   ],
   "source": [
    "convert_label_to_num"
   ]
  },
  {
   "cell_type": "code",
   "execution_count": 41,
   "metadata": {
    "colab": {
     "base_uri": "https://localhost:8080/",
     "height": 206
    },
    "id": "IuUIBTktrp-O",
    "outputId": "3012e931-87ef-4d0a-9c5a-1c645aab6128"
   },
   "outputs": [
    {
     "data": {
      "text/html": [
       "\n",
       "  <div id=\"df-a3de5d30-dafb-4775-adef-cfa0c6ab1ff7\">\n",
       "    <div class=\"colab-df-container\">\n",
       "      <div>\n",
       "<style scoped>\n",
       "    .dataframe tbody tr th:only-of-type {\n",
       "        vertical-align: middle;\n",
       "    }\n",
       "\n",
       "    .dataframe tbody tr th {\n",
       "        vertical-align: top;\n",
       "    }\n",
       "\n",
       "    .dataframe thead th {\n",
       "        text-align: right;\n",
       "    }\n",
       "</style>\n",
       "<table border=\"1\" class=\"dataframe\">\n",
       "  <thead>\n",
       "    <tr style=\"text-align: right;\">\n",
       "      <th></th>\n",
       "      <th>text</th>\n",
       "      <th>labels</th>\n",
       "      <th>num_label</th>\n",
       "    </tr>\n",
       "  </thead>\n",
       "  <tbody>\n",
       "    <tr>\n",
       "      <th>0</th>\n",
       "      <td>b'From: paul@hsh.com (Paul Havemann)\\nSubject:...</td>\n",
       "      <td>talk.politics.misc</td>\n",
       "      <td>18</td>\n",
       "    </tr>\n",
       "    <tr>\n",
       "      <th>1</th>\n",
       "      <td>b'From: as010b@uhura.cc.rochester.edu (Tree of...</td>\n",
       "      <td>talk.politics.misc</td>\n",
       "      <td>18</td>\n",
       "    </tr>\n",
       "    <tr>\n",
       "      <th>2</th>\n",
       "      <td>b'From: an030@cleveland.Freenet.Edu (Broward H...</td>\n",
       "      <td>talk.politics.misc</td>\n",
       "      <td>18</td>\n",
       "    </tr>\n",
       "    <tr>\n",
       "      <th>3</th>\n",
       "      <td>b'From: jmorriso@rflab.ee.ubc.ca (John Paul Mo...</td>\n",
       "      <td>talk.politics.misc</td>\n",
       "      <td>18</td>\n",
       "    </tr>\n",
       "    <tr>\n",
       "      <th>4</th>\n",
       "      <td>b'From: kaldis@romulus.rutgers.edu (Theodore A...</td>\n",
       "      <td>talk.politics.misc</td>\n",
       "      <td>18</td>\n",
       "    </tr>\n",
       "  </tbody>\n",
       "</table>\n",
       "</div>\n",
       "      <button class=\"colab-df-convert\" onclick=\"convertToInteractive('df-a3de5d30-dafb-4775-adef-cfa0c6ab1ff7')\"\n",
       "              title=\"Convert this dataframe to an interactive table.\"\n",
       "              style=\"display:none;\">\n",
       "        \n",
       "  <svg xmlns=\"http://www.w3.org/2000/svg\" height=\"24px\"viewBox=\"0 0 24 24\"\n",
       "       width=\"24px\">\n",
       "    <path d=\"M0 0h24v24H0V0z\" fill=\"none\"/>\n",
       "    <path d=\"M18.56 5.44l.94 2.06.94-2.06 2.06-.94-2.06-.94-.94-2.06-.94 2.06-2.06.94zm-11 1L8.5 8.5l.94-2.06 2.06-.94-2.06-.94L8.5 2.5l-.94 2.06-2.06.94zm10 10l.94 2.06.94-2.06 2.06-.94-2.06-.94-.94-2.06-.94 2.06-2.06.94z\"/><path d=\"M17.41 7.96l-1.37-1.37c-.4-.4-.92-.59-1.43-.59-.52 0-1.04.2-1.43.59L10.3 9.45l-7.72 7.72c-.78.78-.78 2.05 0 2.83L4 21.41c.39.39.9.59 1.41.59.51 0 1.02-.2 1.41-.59l7.78-7.78 2.81-2.81c.8-.78.8-2.07 0-2.86zM5.41 20L4 18.59l7.72-7.72 1.47 1.35L5.41 20z\"/>\n",
       "  </svg>\n",
       "      </button>\n",
       "      \n",
       "  <style>\n",
       "    .colab-df-container {\n",
       "      display:flex;\n",
       "      flex-wrap:wrap;\n",
       "      gap: 12px;\n",
       "    }\n",
       "\n",
       "    .colab-df-convert {\n",
       "      background-color: #E8F0FE;\n",
       "      border: none;\n",
       "      border-radius: 50%;\n",
       "      cursor: pointer;\n",
       "      display: none;\n",
       "      fill: #1967D2;\n",
       "      height: 32px;\n",
       "      padding: 0 0 0 0;\n",
       "      width: 32px;\n",
       "    }\n",
       "\n",
       "    .colab-df-convert:hover {\n",
       "      background-color: #E2EBFA;\n",
       "      box-shadow: 0px 1px 2px rgba(60, 64, 67, 0.3), 0px 1px 3px 1px rgba(60, 64, 67, 0.15);\n",
       "      fill: #174EA6;\n",
       "    }\n",
       "\n",
       "    [theme=dark] .colab-df-convert {\n",
       "      background-color: #3B4455;\n",
       "      fill: #D2E3FC;\n",
       "    }\n",
       "\n",
       "    [theme=dark] .colab-df-convert:hover {\n",
       "      background-color: #434B5C;\n",
       "      box-shadow: 0px 1px 3px 1px rgba(0, 0, 0, 0.15);\n",
       "      filter: drop-shadow(0px 1px 2px rgba(0, 0, 0, 0.3));\n",
       "      fill: #FFFFFF;\n",
       "    }\n",
       "  </style>\n",
       "\n",
       "      <script>\n",
       "        const buttonEl =\n",
       "          document.querySelector('#df-a3de5d30-dafb-4775-adef-cfa0c6ab1ff7 button.colab-df-convert');\n",
       "        buttonEl.style.display =\n",
       "          google.colab.kernel.accessAllowed ? 'block' : 'none';\n",
       "\n",
       "        async function convertToInteractive(key) {\n",
       "          const element = document.querySelector('#df-a3de5d30-dafb-4775-adef-cfa0c6ab1ff7');\n",
       "          const dataTable =\n",
       "            await google.colab.kernel.invokeFunction('convertToInteractive',\n",
       "                                                     [key], {});\n",
       "          if (!dataTable) return;\n",
       "\n",
       "          const docLinkHtml = 'Like what you see? Visit the ' +\n",
       "            '<a target=\"_blank\" href=https://colab.research.google.com/notebooks/data_table.ipynb>data table notebook</a>'\n",
       "            + ' to learn more about interactive tables.';\n",
       "          element.innerHTML = '';\n",
       "          dataTable['output_type'] = 'display_data';\n",
       "          await google.colab.output.renderOutput(dataTable, element);\n",
       "          const docLink = document.createElement('div');\n",
       "          docLink.innerHTML = docLinkHtml;\n",
       "          element.appendChild(docLink);\n",
       "        }\n",
       "      </script>\n",
       "    </div>\n",
       "  </div>\n",
       "  "
      ],
      "text/plain": [
       "                                                text              labels  \\\n",
       "0  b'From: paul@hsh.com (Paul Havemann)\\nSubject:...  talk.politics.misc   \n",
       "1  b'From: as010b@uhura.cc.rochester.edu (Tree of...  talk.politics.misc   \n",
       "2  b'From: an030@cleveland.Freenet.Edu (Broward H...  talk.politics.misc   \n",
       "3  b'From: jmorriso@rflab.ee.ubc.ca (John Paul Mo...  talk.politics.misc   \n",
       "4  b'From: kaldis@romulus.rutgers.edu (Theodore A...  talk.politics.misc   \n",
       "\n",
       "   num_label  \n",
       "0         18  \n",
       "1         18  \n",
       "2         18  \n",
       "3         18  \n",
       "4         18  "
      ]
     },
     "execution_count": 41,
     "metadata": {},
     "output_type": "execute_result"
    }
   ],
   "source": [
    "data['num_label'] = data['labels'].replace(convert_label_to_num)\n",
    "data.head()"
   ]
  },
  {
   "cell_type": "code",
   "execution_count": 42,
   "metadata": {
    "colab": {
     "base_uri": "https://localhost:8080/"
    },
    "id": "3JTgoCXkrp7_",
    "outputId": "b3c80e1e-7dce-498d-92bd-c35337986d6b"
   },
   "outputs": [
    {
     "data": {
      "text/plain": [
       "(18828, 3)"
      ]
     },
     "execution_count": 42,
     "metadata": {},
     "output_type": "execute_result"
    }
   ],
   "source": [
    "data.shape"
   ]
  },
  {
   "cell_type": "code",
   "execution_count": null,
   "metadata": {
    "id": "AE-SZVbhrp5p"
   },
   "outputs": [],
   "source": [
    "data.to_csv('joined_data.csv')"
   ]
  },
  {
   "cell_type": "markdown",
   "metadata": {
    "id": "CHSdG3IdH9qJ",
    "tags": []
   },
   "source": [
    "# Preprocessing Stage"
   ]
  },
  {
   "cell_type": "code",
   "execution_count": null,
   "metadata": {
    "id": "Qc-gFZsRAMFL"
   },
   "outputs": [],
   "source": [
    "import numpy as np\n",
    "import pandas as pd\n",
    "import matplotlib.pyplot as plt\n",
    "import seaborn as sns"
   ]
  },
  {
   "cell_type": "code",
   "execution_count": null,
   "metadata": {
    "id": "VqEa0gvRXsrf"
   },
   "outputs": [],
   "source": [
    "import nltk\n",
    "nltk.download('all')"
   ]
  },
  {
   "cell_type": "code",
   "execution_count": null,
   "metadata": {
    "id": "_8HKVbgDpAdl"
   },
   "outputs": [],
   "source": [
    "import re\n",
    "from string import digits"
   ]
  },
  {
   "cell_type": "code",
   "execution_count": null,
   "metadata": {
    "colab": {
     "base_uri": "https://localhost:8080/"
    },
    "id": "7ARR8Sxt_4uG",
    "outputId": "7fb28636-c916-4368-ef28-33e5f6cc92b4"
   },
   "outputs": [
    {
     "name": "stdout",
     "output_type": "stream",
     "text": [
      "Drive already mounted at /content/gdrive; to attempt to forcibly remount, call drive.mount(\"/content/gdrive\", force_remount=True).\n"
     ]
    }
   ],
   "source": [
    "import os\n",
    "from google.colab import drive\n",
    "MOUNTPOINT = '/content/gdrive'\n",
    "DATADIR = os.path.join(MOUNTPOINT, 'My Drive', 'Doc_classification_cnn')\n",
    "drive.mount(MOUNTPOINT)"
   ]
  },
  {
   "cell_type": "code",
   "execution_count": null,
   "metadata": {
    "id": "9fKlNLl_BVtb"
   },
   "outputs": [],
   "source": [
    "path=os.path.join(DATADIR, 'joined_data.csv')"
   ]
  },
  {
   "cell_type": "code",
   "execution_count": null,
   "metadata": {
    "colab": {
     "base_uri": "https://localhost:8080/",
     "height": 206
    },
    "id": "DRtbFzO3AEOl",
    "outputId": "f3fd3414-5e0a-4ae0-f699-73e4af737874"
   },
   "outputs": [
    {
     "data": {
      "text/html": [
       "\n",
       "  <div id=\"df-59394b94-e084-4594-90be-9e75d5306453\">\n",
       "    <div class=\"colab-df-container\">\n",
       "      <div>\n",
       "<style scoped>\n",
       "    .dataframe tbody tr th:only-of-type {\n",
       "        vertical-align: middle;\n",
       "    }\n",
       "\n",
       "    .dataframe tbody tr th {\n",
       "        vertical-align: top;\n",
       "    }\n",
       "\n",
       "    .dataframe thead th {\n",
       "        text-align: right;\n",
       "    }\n",
       "</style>\n",
       "<table border=\"1\" class=\"dataframe\">\n",
       "  <thead>\n",
       "    <tr style=\"text-align: right;\">\n",
       "      <th></th>\n",
       "      <th>Unnamed: 0</th>\n",
       "      <th>text</th>\n",
       "      <th>labels</th>\n",
       "      <th>num_label</th>\n",
       "    </tr>\n",
       "  </thead>\n",
       "  <tbody>\n",
       "    <tr>\n",
       "      <th>0</th>\n",
       "      <td>0</td>\n",
       "      <td>b'From: paul@hsh.com (Paul Havemann)\\nSubject:...</td>\n",
       "      <td>talk.politics.misc</td>\n",
       "      <td>18</td>\n",
       "    </tr>\n",
       "    <tr>\n",
       "      <th>1</th>\n",
       "      <td>1</td>\n",
       "      <td>b'From: as010b@uhura.cc.rochester.edu (Tree of...</td>\n",
       "      <td>talk.politics.misc</td>\n",
       "      <td>18</td>\n",
       "    </tr>\n",
       "    <tr>\n",
       "      <th>2</th>\n",
       "      <td>2</td>\n",
       "      <td>b'From: an030@cleveland.Freenet.Edu (Broward H...</td>\n",
       "      <td>talk.politics.misc</td>\n",
       "      <td>18</td>\n",
       "    </tr>\n",
       "    <tr>\n",
       "      <th>3</th>\n",
       "      <td>3</td>\n",
       "      <td>b'From: jmorriso@rflab.ee.ubc.ca (John Paul Mo...</td>\n",
       "      <td>talk.politics.misc</td>\n",
       "      <td>18</td>\n",
       "    </tr>\n",
       "    <tr>\n",
       "      <th>4</th>\n",
       "      <td>4</td>\n",
       "      <td>b'From: kaldis@romulus.rutgers.edu (Theodore A...</td>\n",
       "      <td>talk.politics.misc</td>\n",
       "      <td>18</td>\n",
       "    </tr>\n",
       "  </tbody>\n",
       "</table>\n",
       "</div>\n",
       "      <button class=\"colab-df-convert\" onclick=\"convertToInteractive('df-59394b94-e084-4594-90be-9e75d5306453')\"\n",
       "              title=\"Convert this dataframe to an interactive table.\"\n",
       "              style=\"display:none;\">\n",
       "        \n",
       "  <svg xmlns=\"http://www.w3.org/2000/svg\" height=\"24px\"viewBox=\"0 0 24 24\"\n",
       "       width=\"24px\">\n",
       "    <path d=\"M0 0h24v24H0V0z\" fill=\"none\"/>\n",
       "    <path d=\"M18.56 5.44l.94 2.06.94-2.06 2.06-.94-2.06-.94-.94-2.06-.94 2.06-2.06.94zm-11 1L8.5 8.5l.94-2.06 2.06-.94-2.06-.94L8.5 2.5l-.94 2.06-2.06.94zm10 10l.94 2.06.94-2.06 2.06-.94-2.06-.94-.94-2.06-.94 2.06-2.06.94z\"/><path d=\"M17.41 7.96l-1.37-1.37c-.4-.4-.92-.59-1.43-.59-.52 0-1.04.2-1.43.59L10.3 9.45l-7.72 7.72c-.78.78-.78 2.05 0 2.83L4 21.41c.39.39.9.59 1.41.59.51 0 1.02-.2 1.41-.59l7.78-7.78 2.81-2.81c.8-.78.8-2.07 0-2.86zM5.41 20L4 18.59l7.72-7.72 1.47 1.35L5.41 20z\"/>\n",
       "  </svg>\n",
       "      </button>\n",
       "      \n",
       "  <style>\n",
       "    .colab-df-container {\n",
       "      display:flex;\n",
       "      flex-wrap:wrap;\n",
       "      gap: 12px;\n",
       "    }\n",
       "\n",
       "    .colab-df-convert {\n",
       "      background-color: #E8F0FE;\n",
       "      border: none;\n",
       "      border-radius: 50%;\n",
       "      cursor: pointer;\n",
       "      display: none;\n",
       "      fill: #1967D2;\n",
       "      height: 32px;\n",
       "      padding: 0 0 0 0;\n",
       "      width: 32px;\n",
       "    }\n",
       "\n",
       "    .colab-df-convert:hover {\n",
       "      background-color: #E2EBFA;\n",
       "      box-shadow: 0px 1px 2px rgba(60, 64, 67, 0.3), 0px 1px 3px 1px rgba(60, 64, 67, 0.15);\n",
       "      fill: #174EA6;\n",
       "    }\n",
       "\n",
       "    [theme=dark] .colab-df-convert {\n",
       "      background-color: #3B4455;\n",
       "      fill: #D2E3FC;\n",
       "    }\n",
       "\n",
       "    [theme=dark] .colab-df-convert:hover {\n",
       "      background-color: #434B5C;\n",
       "      box-shadow: 0px 1px 3px 1px rgba(0, 0, 0, 0.15);\n",
       "      filter: drop-shadow(0px 1px 2px rgba(0, 0, 0, 0.3));\n",
       "      fill: #FFFFFF;\n",
       "    }\n",
       "  </style>\n",
       "\n",
       "      <script>\n",
       "        const buttonEl =\n",
       "          document.querySelector('#df-59394b94-e084-4594-90be-9e75d5306453 button.colab-df-convert');\n",
       "        buttonEl.style.display =\n",
       "          google.colab.kernel.accessAllowed ? 'block' : 'none';\n",
       "\n",
       "        async function convertToInteractive(key) {\n",
       "          const element = document.querySelector('#df-59394b94-e084-4594-90be-9e75d5306453');\n",
       "          const dataTable =\n",
       "            await google.colab.kernel.invokeFunction('convertToInteractive',\n",
       "                                                     [key], {});\n",
       "          if (!dataTable) return;\n",
       "\n",
       "          const docLinkHtml = 'Like what you see? Visit the ' +\n",
       "            '<a target=\"_blank\" href=https://colab.research.google.com/notebooks/data_table.ipynb>data table notebook</a>'\n",
       "            + ' to learn more about interactive tables.';\n",
       "          element.innerHTML = '';\n",
       "          dataTable['output_type'] = 'display_data';\n",
       "          await google.colab.output.renderOutput(dataTable, element);\n",
       "          const docLink = document.createElement('div');\n",
       "          docLink.innerHTML = docLinkHtml;\n",
       "          element.appendChild(docLink);\n",
       "        }\n",
       "      </script>\n",
       "    </div>\n",
       "  </div>\n",
       "  "
      ],
      "text/plain": [
       "   Unnamed: 0                                               text  \\\n",
       "0           0  b'From: paul@hsh.com (Paul Havemann)\\nSubject:...   \n",
       "1           1  b'From: as010b@uhura.cc.rochester.edu (Tree of...   \n",
       "2           2  b'From: an030@cleveland.Freenet.Edu (Broward H...   \n",
       "3           3  b'From: jmorriso@rflab.ee.ubc.ca (John Paul Mo...   \n",
       "4           4  b'From: kaldis@romulus.rutgers.edu (Theodore A...   \n",
       "\n",
       "               labels  num_label  \n",
       "0  talk.politics.misc         18  \n",
       "1  talk.politics.misc         18  \n",
       "2  talk.politics.misc         18  \n",
       "3  talk.politics.misc         18  \n",
       "4  talk.politics.misc         18  "
      ]
     },
     "execution_count": 6,
     "metadata": {},
     "output_type": "execute_result"
    }
   ],
   "source": [
    "df = pd.read_csv(path)\n",
    "df.head()"
   ]
  },
  {
   "cell_type": "code",
   "execution_count": null,
   "metadata": {
    "colab": {
     "base_uri": "https://localhost:8080/"
    },
    "id": "qjpQKZISAYqV",
    "outputId": "20916ab9-89f9-4ffd-e082-5164204c3d51"
   },
   "outputs": [
    {
     "data": {
      "text/plain": [
       "(18828, 4)"
      ]
     },
     "execution_count": 7,
     "metadata": {},
     "output_type": "execute_result"
    }
   ],
   "source": [
    "df.shape"
   ]
  },
  {
   "cell_type": "code",
   "execution_count": null,
   "metadata": {
    "id": "PJzFOLf2CPzN"
   },
   "outputs": [],
   "source": [
    "df.drop(columns = ['Unnamed: 0' , 'labels'], inplace = True)"
   ]
  },
  {
   "cell_type": "code",
   "execution_count": null,
   "metadata": {
    "colab": {
     "base_uri": "https://localhost:8080/",
     "height": 206
    },
    "id": "igBvACaYDAla",
    "outputId": "1ef5db46-4738-4a18-d128-5743e6390ff0"
   },
   "outputs": [
    {
     "data": {
      "text/html": [
       "\n",
       "  <div id=\"df-aa172f37-4022-4b14-bee8-74d24258a721\">\n",
       "    <div class=\"colab-df-container\">\n",
       "      <div>\n",
       "<style scoped>\n",
       "    .dataframe tbody tr th:only-of-type {\n",
       "        vertical-align: middle;\n",
       "    }\n",
       "\n",
       "    .dataframe tbody tr th {\n",
       "        vertical-align: top;\n",
       "    }\n",
       "\n",
       "    .dataframe thead th {\n",
       "        text-align: right;\n",
       "    }\n",
       "</style>\n",
       "<table border=\"1\" class=\"dataframe\">\n",
       "  <thead>\n",
       "    <tr style=\"text-align: right;\">\n",
       "      <th></th>\n",
       "      <th>text</th>\n",
       "      <th>num_label</th>\n",
       "    </tr>\n",
       "  </thead>\n",
       "  <tbody>\n",
       "    <tr>\n",
       "      <th>0</th>\n",
       "      <td>b'From: paul@hsh.com (Paul Havemann)\\nSubject:...</td>\n",
       "      <td>18</td>\n",
       "    </tr>\n",
       "    <tr>\n",
       "      <th>1</th>\n",
       "      <td>b'From: as010b@uhura.cc.rochester.edu (Tree of...</td>\n",
       "      <td>18</td>\n",
       "    </tr>\n",
       "    <tr>\n",
       "      <th>2</th>\n",
       "      <td>b'From: an030@cleveland.Freenet.Edu (Broward H...</td>\n",
       "      <td>18</td>\n",
       "    </tr>\n",
       "    <tr>\n",
       "      <th>3</th>\n",
       "      <td>b'From: jmorriso@rflab.ee.ubc.ca (John Paul Mo...</td>\n",
       "      <td>18</td>\n",
       "    </tr>\n",
       "    <tr>\n",
       "      <th>4</th>\n",
       "      <td>b'From: kaldis@romulus.rutgers.edu (Theodore A...</td>\n",
       "      <td>18</td>\n",
       "    </tr>\n",
       "  </tbody>\n",
       "</table>\n",
       "</div>\n",
       "      <button class=\"colab-df-convert\" onclick=\"convertToInteractive('df-aa172f37-4022-4b14-bee8-74d24258a721')\"\n",
       "              title=\"Convert this dataframe to an interactive table.\"\n",
       "              style=\"display:none;\">\n",
       "        \n",
       "  <svg xmlns=\"http://www.w3.org/2000/svg\" height=\"24px\"viewBox=\"0 0 24 24\"\n",
       "       width=\"24px\">\n",
       "    <path d=\"M0 0h24v24H0V0z\" fill=\"none\"/>\n",
       "    <path d=\"M18.56 5.44l.94 2.06.94-2.06 2.06-.94-2.06-.94-.94-2.06-.94 2.06-2.06.94zm-11 1L8.5 8.5l.94-2.06 2.06-.94-2.06-.94L8.5 2.5l-.94 2.06-2.06.94zm10 10l.94 2.06.94-2.06 2.06-.94-2.06-.94-.94-2.06-.94 2.06-2.06.94z\"/><path d=\"M17.41 7.96l-1.37-1.37c-.4-.4-.92-.59-1.43-.59-.52 0-1.04.2-1.43.59L10.3 9.45l-7.72 7.72c-.78.78-.78 2.05 0 2.83L4 21.41c.39.39.9.59 1.41.59.51 0 1.02-.2 1.41-.59l7.78-7.78 2.81-2.81c.8-.78.8-2.07 0-2.86zM5.41 20L4 18.59l7.72-7.72 1.47 1.35L5.41 20z\"/>\n",
       "  </svg>\n",
       "      </button>\n",
       "      \n",
       "  <style>\n",
       "    .colab-df-container {\n",
       "      display:flex;\n",
       "      flex-wrap:wrap;\n",
       "      gap: 12px;\n",
       "    }\n",
       "\n",
       "    .colab-df-convert {\n",
       "      background-color: #E8F0FE;\n",
       "      border: none;\n",
       "      border-radius: 50%;\n",
       "      cursor: pointer;\n",
       "      display: none;\n",
       "      fill: #1967D2;\n",
       "      height: 32px;\n",
       "      padding: 0 0 0 0;\n",
       "      width: 32px;\n",
       "    }\n",
       "\n",
       "    .colab-df-convert:hover {\n",
       "      background-color: #E2EBFA;\n",
       "      box-shadow: 0px 1px 2px rgba(60, 64, 67, 0.3), 0px 1px 3px 1px rgba(60, 64, 67, 0.15);\n",
       "      fill: #174EA6;\n",
       "    }\n",
       "\n",
       "    [theme=dark] .colab-df-convert {\n",
       "      background-color: #3B4455;\n",
       "      fill: #D2E3FC;\n",
       "    }\n",
       "\n",
       "    [theme=dark] .colab-df-convert:hover {\n",
       "      background-color: #434B5C;\n",
       "      box-shadow: 0px 1px 3px 1px rgba(0, 0, 0, 0.15);\n",
       "      filter: drop-shadow(0px 1px 2px rgba(0, 0, 0, 0.3));\n",
       "      fill: #FFFFFF;\n",
       "    }\n",
       "  </style>\n",
       "\n",
       "      <script>\n",
       "        const buttonEl =\n",
       "          document.querySelector('#df-aa172f37-4022-4b14-bee8-74d24258a721 button.colab-df-convert');\n",
       "        buttonEl.style.display =\n",
       "          google.colab.kernel.accessAllowed ? 'block' : 'none';\n",
       "\n",
       "        async function convertToInteractive(key) {\n",
       "          const element = document.querySelector('#df-aa172f37-4022-4b14-bee8-74d24258a721');\n",
       "          const dataTable =\n",
       "            await google.colab.kernel.invokeFunction('convertToInteractive',\n",
       "                                                     [key], {});\n",
       "          if (!dataTable) return;\n",
       "\n",
       "          const docLinkHtml = 'Like what you see? Visit the ' +\n",
       "            '<a target=\"_blank\" href=https://colab.research.google.com/notebooks/data_table.ipynb>data table notebook</a>'\n",
       "            + ' to learn more about interactive tables.';\n",
       "          element.innerHTML = '';\n",
       "          dataTable['output_type'] = 'display_data';\n",
       "          await google.colab.output.renderOutput(dataTable, element);\n",
       "          const docLink = document.createElement('div');\n",
       "          docLink.innerHTML = docLinkHtml;\n",
       "          element.appendChild(docLink);\n",
       "        }\n",
       "      </script>\n",
       "    </div>\n",
       "  </div>\n",
       "  "
      ],
      "text/plain": [
       "                                                text  num_label\n",
       "0  b'From: paul@hsh.com (Paul Havemann)\\nSubject:...         18\n",
       "1  b'From: as010b@uhura.cc.rochester.edu (Tree of...         18\n",
       "2  b'From: an030@cleveland.Freenet.Edu (Broward H...         18\n",
       "3  b'From: jmorriso@rflab.ee.ubc.ca (John Paul Mo...         18\n",
       "4  b'From: kaldis@romulus.rutgers.edu (Theodore A...         18"
      ]
     },
     "execution_count": 9,
     "metadata": {},
     "output_type": "execute_result"
    }
   ],
   "source": [
    "df.head()"
   ]
  },
  {
   "cell_type": "code",
   "execution_count": null,
   "metadata": {
    "id": "ZPruVxP3D6_P"
   },
   "outputs": [],
   "source": [
    "import re\n",
    "def preprocess_step1_2(line):\n",
    "# Code reference: https://stackoverflow.com/questions/17681670/extract-email-sub-strings-from-large-document\n",
    "    #line = line.lower()\n",
    "\n",
    "    email = pd.Series(re.findall(r'[\\w\\.\\-\\+]+@[\\w\\.-]+\\.\\w+', line))\n",
    "    uni_email = list(email.unique())\n",
    "    #print(uni_email)\n",
    "\n",
    "    final_str = \"\"\n",
    "\n",
    "    for e in uni_email:\n",
    "        step1 = e.split(\"@\")[1]\n",
    "        step2 = step1.split(\".\")\n",
    "        \n",
    "        for ele in step2:\n",
    "            #print(ele)\n",
    "            if str(ele.lower()) != \"com\" and len(ele) >= 3:\n",
    "                final_str += str(ele)\n",
    "                final_str += \" \"\n",
    "\n",
    "    for mail in uni_email:\n",
    "        line = line.replace(mail, \" \")\n",
    "    \n",
    "    return final_str[:-1], line"
   ]
  },
  {
   "cell_type": "code",
   "execution_count": null,
   "metadata": {
    "id": "1ZL695ahpmcy"
   },
   "outputs": [],
   "source": [
    "def preprocess_step3_4(t2):\n",
    "    '''t2 = str(df['text'][2000]) '''\n",
    "    t2_sentence = t2.split('\\\\n')\n",
    "    #print(t2_sentence)\n",
    "    output = \"\"\n",
    "\n",
    "    idx = -1\n",
    "\n",
    "    for s in range(len(t2_sentence)):\n",
    "        sen = t2_sentence[s]\n",
    "\n",
    "        if 'Subject:' in sen:\n",
    "            idx = s\n",
    "            break\n",
    "\n",
    "    subject_sen = t2_sentence[idx].split(\"Subject:\")[1]\n",
    "    #print(subject_sen)\n",
    "\n",
    "    if \"Re:\" in subject_sen:\n",
    "        o = subject_sen.split(\":\")\n",
    "        #print(o)\n",
    "\n",
    "        if len(o) > 2:\n",
    "            output = \" \".join(o[1:])\n",
    "        else:\n",
    "            output = o[1]\n",
    "\n",
    "    else:\n",
    "        output = subject_sen\n",
    "\n",
    "    #print(output)\n",
    "\n",
    "    out = re.sub(\"[^A-Za-z']\",\" \", output)\n",
    "    out = \" \".join(out.split())\n",
    "    #print(out)\n",
    "\n",
    "    t2 = t2.replace(t2_sentence[idx], \" \")\n",
    "    \n",
    "    return out, t2"
   ]
  },
  {
   "cell_type": "code",
   "execution_count": null,
   "metadata": {
    "colab": {
     "base_uri": "https://localhost:8080/",
     "height": 74
    },
    "id": "PvzdnAPJngcp",
    "outputId": "06d58082-1660-4792-8a6e-316f189473d9"
   },
   "outputs": [
    {
     "name": "stdout",
     "output_type": "stream",
     "text": [
      "b\"From: obl@gabi.ap.mchp.sni.de (Oliver Blankenheim)\\nSubject: Subject: Re: 16550 v. 16550A ???\\n\\n\\nIn article <1993Apr22.042310.39296@ns1.cc.lehigh.edu> you write:\\n\\n> What's the difference between a 16550 UART and a 16550A UART? Thanks!\\n\\nThe difference is that the 16550 got bugs while the 16550A can be used\\nwhithout problems even in fast serial communications. Other sources\\nsay that only the 16550AFN from Nat Semi (i.e. not: second sources)\\nis really OK.\\n\\nBest wishes\\n\\nOliver\\n\\n\\n\\n\"\n"
     ]
    },
    {
     "data": {
      "application/vnd.google.colaboratory.intrinsic+json": {
       "type": "string"
      },
      "text/plain": [
       "''"
      ]
     },
     "execution_count": 12,
     "metadata": {},
     "output_type": "execute_result"
    }
   ],
   "source": [
    "l = str(df['text'][15901])\n",
    "print(l)\n",
    "a,b = preprocess_step3_4(t2 = l)\n",
    "a"
   ]
  },
  {
   "cell_type": "code",
   "execution_count": null,
   "metadata": {
    "id": "_t-wmBDnD1Er"
   },
   "outputs": [],
   "source": [
    "def preprocess_step5a(text):\n",
    "    ''' text = str(df['text'][500]) '''\n",
    "    sentences = text.split(\"\\\\n\")\n",
    "\n",
    "    from_idx = -1\n",
    "\n",
    "    for s in range(len(sentences)):\n",
    "        if \"From:\" in sentences[s]:\n",
    "            from_idx = s\n",
    "            break\n",
    "\n",
    "    if from_idx != -1:\n",
    "        sentences.pop(from_idx)\n",
    "\n",
    "    output = \" \".join(sentences)\n",
    "    return output"
   ]
  },
  {
   "cell_type": "code",
   "execution_count": null,
   "metadata": {
    "id": "O68VQ67LIyo0"
   },
   "outputs": [],
   "source": [
    "def preprocess_step5b(text):\n",
    "    ''' text = str(df['text'][500]) '''\n",
    "    sentences = text.split(\"\\\\n\")\n",
    "\n",
    "    write_idx = -1\n",
    "\n",
    "    for s in range(len(sentences)):\n",
    "        if \"Write to:\" in sentences[s]:\n",
    "            from_idx = s\n",
    "            break\n",
    "\n",
    "    if write_idx != -1:\n",
    "        sentences.pop(from_idx)\n",
    "\n",
    "    output = \" \".join(sentences)\n",
    "    return output"
   ]
  },
  {
   "cell_type": "code",
   "execution_count": null,
   "metadata": {
    "id": "1S_Nh6PqNFZa"
   },
   "outputs": [],
   "source": [
    "def step6_7(text, start_mark, close_mark):\n",
    "    length = len(text)\n",
    "    p = 0\n",
    "    p1 = 0\n",
    "    flag = True\n",
    "    out = ''\n",
    "    bracket = ''\n",
    "\n",
    "    while p < length and flag:\n",
    "        if text[p] == start_mark:\n",
    "            p1 = p + 1\n",
    "            bracket = ''\n",
    "\n",
    "            while p1 < length:\n",
    "\n",
    "                if text[p1] == close_mark:\n",
    "                    p = p1 + 1\n",
    "                    break\n",
    "                \n",
    "                if text[p1] != close_mark:\n",
    "                    bracket += text[p1]\n",
    "                    p1 += 1\n",
    "\n",
    "                if p1+1 == length:\n",
    "                    flag = False\n",
    "        \n",
    "        else:\n",
    "            out = out + text[p]\n",
    "            p = p + 1\n",
    "\n",
    "    if flag == False:\n",
    "        out = out + bracket\n",
    "\n",
    "    return out"
   ]
  },
  {
   "cell_type": "code",
   "execution_count": null,
   "metadata": {
    "id": "0xrfOYAVhxxO"
   },
   "outputs": [],
   "source": [
    "def preprocess_step6(text):\n",
    "    t = step6_7(text , \"<\", \">\")\n",
    "    return t\n",
    "\n",
    "def preprocess_step7(text):\n",
    "    t = step6_7(text, \"(\", \")\")\n",
    "    return t"
   ]
  },
  {
   "cell_type": "code",
   "execution_count": null,
   "metadata": {
    "colab": {
     "base_uri": "https://localhost:8080/",
     "height": 127
    },
    "id": "jdiATJ3ahXCw",
    "outputId": "dcdb6c06-2d80-4bfd-ceaa-a6b68d3c5311"
   },
   "outputs": [
    {
     "data": {
      "application/vnd.google.colaboratory.intrinsic+json": {
       "type": "string"
      },
      "text/plain": [
       "'b\\'From: scott@uniwa.uwa.edu.au \\\\nSubject: Re: Doing the work of God??!!)\\\\n\\\\nDesiree Bradley  wrote:\\\\n\\\\n. . ..\\\\n\\\\n: The next Sunday, the sermon was about Joshua 6 .  With those reports about\\\\n: Bosnia in my mind, I felt uncomfortable about the minister saying that\\\\n: the massacre  was right.  But what really bothered\\\\n: me was that, if I was going to try taking Christianity seriously, I\\\\n: shouldn\\\\\\'t be so troubled about the reports of \"ethnic cleansing\" in\\\\n: Bosnia.  Certainly, my sympathies shouldn\\\\\\'t be with the Moslims.\\\\n: Considering that the Bosnian Muslims are descendants of Christians\\\\n: who, under Turkish rule, converted to Islam could the Serbs be doing\\\\n: God\\\\\\'s work?\\\\n\\\\nPerhaps it would be useful to ask whether those doing the ethnic\\\\ncleansing could be said to be loving those they are killing in the very\\\\nact of killing.  Does it reflect the attitude of God, who sends rain to\\\\nboth the just and the unjust?  If not, then Christians should be\\\\nuncomfortable with it.  Jesus gave his followers the law of love to\\\\nfollow and it is by exhibiting this that disciples will be known. \\\\nDoctrinal  correctness is not the standard, so I don\\\\\\'t see\\\\nwhy Christians should be moved against the Serbs because their ancestors\\\\nconverted from Christianity to Islam.  It seems to me that as a\\\\nChristian you _should_ be troubled by the ethnic cleansing.\\\\n--\\\\n\\\\n\\\\nPeace,\\\\nScott Shalkowski                            scott@arts.uwa.edu.au\\\\n\\''"
      ]
     },
     "execution_count": 17,
     "metadata": {},
     "output_type": "execute_result"
    }
   ],
   "source": [
    "l = str(df['text'][3180])\n",
    "l1 = preprocess_step6(l)\n",
    "l2 = preprocess_step7(l1)\n",
    "l2"
   ]
  },
  {
   "cell_type": "code",
   "execution_count": null,
   "metadata": {
    "id": "jM86tfA_BYKT"
   },
   "outputs": [],
   "source": [
    "def preprocess_step8(t):\n",
    "    t_new = t.replace('\\t', ' ').replace('\\\\n', ' ').replace('\\\\' , ' ' ).replace('-',' ')\n",
    "    return t_new"
   ]
  },
  {
   "cell_type": "code",
   "execution_count": null,
   "metadata": {
    "id": "upSrW3wCKwBn"
   },
   "outputs": [],
   "source": [
    "def preprocess_step9(t):\n",
    "    L = []\n",
    "    for word in t.split():\n",
    "        if not word.endswith(':'):\n",
    "            L.append(word)\n",
    "    return ' '.join(L)"
   ]
  },
  {
   "cell_type": "code",
   "execution_count": null,
   "metadata": {
    "id": "1AvQ4V4FPDQJ"
   },
   "outputs": [],
   "source": [
    "def preprocess_step10(phrase):\n",
    "    # Code Reference: Sample notebook Donor Choose\n",
    "    phrase = re.sub(r\"won\\'t\", \"will not\", phrase)\n",
    "    phrase = re.sub(r\"can\\'t\", \"can not\", phrase)\n",
    "\n",
    "    # general\n",
    "    phrase = re.sub(r\"n\\'t\", \" not\", phrase)\n",
    "    phrase = re.sub(r\"\\'re\", \" are\", phrase)\n",
    "    phrase = re.sub(r\"\\'s\", \" is\", phrase)\n",
    "    phrase = re.sub(r\"\\'d\", \" would\", phrase)\n",
    "    phrase = re.sub(r\"\\'ll\", \" will\", phrase)\n",
    "    phrase = re.sub(r\"\\'t\", \" not\", phrase)\n",
    "    phrase = re.sub(r\"\\'ve\", \" have\", phrase)\n",
    "    phrase = re.sub(r\"\\'m\", \" am\", phrase)\n",
    "    return phrase"
   ]
  },
  {
   "cell_type": "code",
   "execution_count": null,
   "metadata": {
    "id": "zJj9JlKvPEtX"
   },
   "outputs": [],
   "source": [
    "def preprocessing_1_10(text):\n",
    "    emails = []\n",
    "    subject_line = []\n",
    "\n",
    "    email, text = preprocess_step1_2(text)\n",
    "    emails.append(email)\n",
    "\n",
    "    subject, text = preprocess_step3_4(text)\n",
    "    subject_line.append(subject)\n",
    "\n",
    "    text = preprocess_step5a(text)\n",
    "    print(\"5a\",text)\n",
    "    text = preprocess_step5b(text)\n",
    "    print(\"5b\",text)\n",
    "    text = preprocess_step6(text)\n",
    "    print(\"6\", text)\n",
    "    text = preprocess_step7(text)\n",
    "    print(\"7\", text)\n",
    "    text = preprocess_step8(text)\n",
    "    print(\"8\", text)\n",
    "    text = preprocess_step9(text)\n",
    "    print(\"9\", text)\n",
    "    text = preprocess_step10(text)\n",
    "    print(\"10\", text)\n",
    "\n",
    "    return text"
   ]
  },
  {
   "cell_type": "code",
   "execution_count": null,
   "metadata": {
    "colab": {
     "base_uri": "https://localhost:8080/",
     "height": 238
    },
    "id": "cjpecGRiJCWt",
    "outputId": "6fcfd48e-6ea8-4845-dbe1-a9654d14c66f"
   },
   "outputs": [
    {
     "name": "stdout",
     "output_type": "stream",
     "text": [
      "b'From: hl7204@eehp22 (H L)\\nSubject: Re: Graphics Library Package\\n\\n  \\n\\n'\n",
      "5a        '\n",
      "5b        '\n",
      "6        '\n",
      "7        '\n",
      "8        '\n",
      "9 '\n",
      "10 '\n"
     ]
    },
    {
     "name": "stderr",
     "output_type": "stream",
     "text": [
      "<ipython-input-10-5d490f9bf199>:6: DeprecationWarning: The default dtype for empty Series will be 'object' instead of 'float64' in a future version. Specify a dtype explicitly to silence this warning.\n",
      "  email = pd.Series(re.findall(r'[\\w\\.\\-\\+]+@[\\w\\.-]+\\.\\w+', line))\n"
     ]
    },
    {
     "data": {
      "application/vnd.google.colaboratory.intrinsic+json": {
       "type": "string"
      },
      "text/plain": [
       "\"'\""
      ]
     },
     "execution_count": 22,
     "metadata": {},
     "output_type": "execute_result"
    }
   ],
   "source": [
    "l = str(df['text'][17922])\n",
    "print(l)\n",
    "my_sent = preprocessing_1_10(l)\n",
    "my_sent"
   ]
  },
  {
   "cell_type": "code",
   "execution_count": null,
   "metadata": {
    "id": "ghuVZkcBcfXU"
   },
   "outputs": [],
   "source": [
    "def preprocess_step11(my_sent):\n",
    "    person_list = []\n",
    "    other_list = []\n",
    "\n",
    "    for sent in nltk.sent_tokenize(my_sent):\n",
    "        for chunk in nltk.ne_chunk(nltk.pos_tag(nltk.word_tokenize(sent))):\n",
    "            if hasattr(chunk, 'label'):\n",
    "                chunk_label = chunk.label()\n",
    "                word = ' '.join(c[0] for c in chunk)\n",
    "\n",
    "                if chunk_label == \"PERSON\":\n",
    "                    person_list.append(word)\n",
    "\n",
    "                else:\n",
    "                    other_list.append(word)\n",
    "            \n",
    "    person_list = pd.Series(person_list).unique()\n",
    "    other_list = pd.Series(other_list).unique()\n",
    "\n",
    "    for p in person_list:\n",
    "        my_sent = my_sent.replace(p, \" \")\n",
    "\n",
    "    for w in other_list:\n",
    "\n",
    "        if len(w.split()) > 1:\n",
    "            replaced_word = \"_\".join(w.split())\n",
    "            my_sent = my_sent.replace(w , replaced_word )\n",
    "\n",
    "    return my_sent"
   ]
  },
  {
   "cell_type": "code",
   "execution_count": null,
   "metadata": {
    "id": "21flSIsloom8"
   },
   "outputs": [],
   "source": [
    "def preprocess_step12(t):\n",
    "    remove_digits = t.maketrans('', '', digits)\n",
    "    t = t.translate(remove_digits)\n",
    "    return t"
   ]
  },
  {
   "cell_type": "code",
   "execution_count": null,
   "metadata": {
    "id": "LyNkxqvmpt_t"
   },
   "outputs": [],
   "source": [
    "def preprocess_step13(t):\n",
    "    sent = t.split()\n",
    "\n",
    "    for word in sent:\n",
    "        start_with = word.startswith('_')\n",
    "        end_with = word.endswith('_')\n",
    "        \n",
    "        if start_with and end_with:\n",
    "            t = t.replace(word, word[1:-1])\n",
    "\n",
    "        elif start_with:\n",
    "\n",
    "            if word[-2] == \"_\":\n",
    "                t = t.replace(word , word[1:-2])\n",
    "            else:\n",
    "                t = t.replace(word, word[1:])\n",
    "\n",
    "        elif end_with:\n",
    "            t = t.replace(word, word[:-1])\n",
    "\n",
    "    return t"
   ]
  },
  {
   "cell_type": "code",
   "execution_count": null,
   "metadata": {
    "id": "dJjDbG1dtEEW"
   },
   "outputs": [],
   "source": [
    "def preprocess_step14(t):\n",
    "    sent = t.split()\n",
    "\n",
    "    for word in sent:\n",
    "        w = word.split(\"_\")\n",
    "\n",
    "        if len(w) > 1:\n",
    "            if len(w[0]) < 3:\n",
    "                \n",
    "                r = '_'.join(w[1:])\n",
    "                t = t.replace(word, r)\n",
    "\n",
    "    return t"
   ]
  },
  {
   "cell_type": "code",
   "execution_count": null,
   "metadata": {
    "id": "V6tOwUlv0HIP"
   },
   "outputs": [],
   "source": [
    "def preprocess_step15_16(t):\n",
    "    L = []\n",
    "    sent = t.split()\n",
    "\n",
    "    for word in sent:\n",
    "\n",
    "        if 2 < len(word) < 15:\n",
    "            w = re.sub('[^a-zA-Z0-9_]', '', word)\n",
    "            w = w.lower()\n",
    "            L.append(w)\n",
    "\n",
    "    sentence = \" \".join(L)\n",
    "    return sentence"
   ]
  },
  {
   "cell_type": "code",
   "execution_count": null,
   "metadata": {
    "id": "dinu5Tjw3DtD"
   },
   "outputs": [],
   "source": [
    "def preprocess(text):\n",
    "    email, text = preprocess_step1_2(text)\n",
    "\n",
    "    subject, text = preprocess_step3_4(text)\n",
    "\n",
    "    text = preprocess_step5a(text)\n",
    "    text = preprocess_step5b(text)\n",
    "    text = preprocess_step6(text)\n",
    "    text = preprocess_step7(text)\n",
    "    text = preprocess_step8(text)\n",
    "    text = preprocess_step9(text)\n",
    "    text = preprocess_step10(text)\n",
    "    text = preprocess_step11(text)\n",
    "    text = preprocess_step12(text)\n",
    "    text = preprocess_step13(text)\n",
    "    text = preprocess_step14(text)\n",
    "    text = preprocess_step15_16(text)\n",
    "\n",
    "    return email, subject, text"
   ]
  },
  {
   "cell_type": "code",
   "execution_count": null,
   "metadata": {
    "colab": {
     "base_uri": "https://localhost:8080/"
    },
    "id": "ngDxRxnp5GcU",
    "outputId": "d9e9e3b2-3893-45da-9b1d-f589e16be38a"
   },
   "outputs": [
    {
     "data": {
      "text/plain": [
       "('intercon acs edu',\n",
       " 'Once tapped your code is no good any more',\n",
       " 'wish could agree with you ask yourself this why would any private sector entity wish buy crypto system that was known least partially compromised use for sensitive but not strategically important traffic the system was cheap for example don not own cordless phone with would the local men blue really want listen talk friends order pizza worse off than now and don not have worry about local kids nosy neighbors that say raises the bar insecure channels doesn not make them secure any means but wall even the fbi can get master key court order still better than keep off the grass sign the answer seems obvious me they wouldn not there other hardware out there not compromised des example so where can buy des encrypted cellular phone how much does cost personally cylink stuff out budget for personal use  how can you reconcile the self proclaimed purpose providing law enforcement with access encrypted data without making the clipper system the only crypto available the us the second and come mind')"
      ]
     },
     "execution_count": 29,
     "metadata": {},
     "output_type": "execute_result"
    }
   ],
   "source": [
    "l = str(df['text'][7000])\n",
    "preprocess(l)"
   ]
  },
  {
   "cell_type": "code",
   "execution_count": null,
   "metadata": {
    "colab": {
     "base_uri": "https://localhost:8080/"
    },
    "id": "JaWNIR6H7Ebp",
    "outputId": "da4cf684-b5f8-43d4-9399-67d35a9f12f3"
   },
   "outputs": [
    {
     "name": "stderr",
     "output_type": "stream",
     "text": [
      "<ipython-input-23-a2b340e5e6ca>:17: DeprecationWarning: The default dtype for empty Series will be 'object' instead of 'float64' in a future version. Specify a dtype explicitly to silence this warning.\n",
      "  person_list = pd.Series(person_list).unique()\n",
      "<ipython-input-23-a2b340e5e6ca>:18: DeprecationWarning: The default dtype for empty Series will be 'object' instead of 'float64' in a future version. Specify a dtype explicitly to silence this warning.\n",
      "  other_list = pd.Series(other_list).unique()\n",
      "<ipython-input-10-5d490f9bf199>:6: DeprecationWarning: The default dtype for empty Series will be 'object' instead of 'float64' in a future version. Specify a dtype explicitly to silence this warning.\n",
      "  email = pd.Series(re.findall(r'[\\w\\.\\-\\+]+@[\\w\\.-]+\\.\\w+', line))\n"
     ]
    }
   ],
   "source": [
    "preprocess_text = []\n",
    "preprocess_subject = []\n",
    "preprocess_emails = []\n",
    "\n",
    "for i in range(df.shape[0]):\n",
    "    text_data = str(df['text'][i])\n",
    "\n",
    "    email, subject, text = preprocess(text_data)\n",
    "\n",
    "    preprocess_emails.append(email)\n",
    "    preprocess_subject.append(subject)\n",
    "    preprocess_text.append(text)"
   ]
  },
  {
   "cell_type": "code",
   "execution_count": null,
   "metadata": {
    "colab": {
     "base_uri": "https://localhost:8080/"
    },
    "id": "gzCFpmzmGixA",
    "outputId": "1ab8c79f-c6b6-4080-a65c-a1a420898bb2"
   },
   "outputs": [
    {
     "data": {
      "text/plain": [
       "(18828, 18828, 18828)"
      ]
     },
     "execution_count": 31,
     "metadata": {},
     "output_type": "execute_result"
    }
   ],
   "source": [
    "len(preprocess_text), len(preprocess_subject), len(preprocess_emails)"
   ]
  },
  {
   "cell_type": "code",
   "execution_count": null,
   "metadata": {
    "id": "tUrEzTJz5OT2"
   },
   "outputs": [],
   "source": [
    "data_preprocessed = pd.DataFrame()\n",
    "data_preprocessed['text'] = df['text']\n",
    "data_preprocessed['class'] = df['num_label']\n",
    "data_preprocessed['preprocess_text'] = preprocess_text\n",
    "data_preprocessed['preprocess_subject'] = preprocess_subject\n",
    "data_preprocessed['preprocess_emails'] = preprocess_emails"
   ]
  },
  {
   "cell_type": "code",
   "execution_count": null,
   "metadata": {
    "id": "8_VAAzOc8h5W"
   },
   "outputs": [],
   "source": [
    "data_preprocessed.to_csv('preprocess_data.csv')"
   ]
  },
  {
   "cell_type": "markdown",
   "metadata": {
    "id": "He3C2ulMIi4-"
   },
   "source": [
    "# Modelling"
   ]
  },
  {
   "cell_type": "code",
   "execution_count": 1,
   "metadata": {
    "id": "JY5--w15G0nB"
   },
   "outputs": [],
   "source": [
    "import numpy as np\n",
    "import pandas as pd\n",
    "import matplotlib.pyplot as plt\n",
    "import seaborn as sns"
   ]
  },
  {
   "cell_type": "code",
   "execution_count": 2,
   "metadata": {
    "id": "zT2E0vjpHF4o"
   },
   "outputs": [],
   "source": [
    "import tensorflow as tf\n",
    "import keras"
   ]
  },
  {
   "cell_type": "code",
   "execution_count": 3,
   "metadata": {
    "id": "g_S0mWRKMZaT"
   },
   "outputs": [],
   "source": [
    "from tensorflow.keras.preprocessing.text import Tokenizer\n",
    "from tensorflow.keras.preprocessing.sequence import pad_sequences\n",
    "from tensorflow.keras.models import Sequential, Model\n",
    "from tensorflow.keras.layers import Dense,Dropout,Input\n",
    "from tensorflow.keras.layers import Flatten\n",
    "from tensorflow.keras.layers import Embedding\n",
    "from tensorflow.keras.layers import concatenate\n",
    "from tensorflow.keras.layers import Conv1D\n",
    "from tensorflow.keras.layers import MaxPool1D"
   ]
  },
  {
   "cell_type": "code",
   "execution_count": 4,
   "metadata": {
    "colab": {
     "base_uri": "https://localhost:8080/"
    },
    "id": "3B1zF9PEJOyO",
    "outputId": "70266ad6-5269-4fae-de9c-b21542475f5a"
   },
   "outputs": [
    {
     "name": "stdout",
     "output_type": "stream",
     "text": [
      "Drive already mounted at /content/gdrive; to attempt to forcibly remount, call drive.mount(\"/content/gdrive\", force_remount=True).\n"
     ]
    }
   ],
   "source": [
    "import os\n",
    "from google.colab import drive\n",
    "MOUNTPOINT = '/content/gdrive'\n",
    "DATADIR = os.path.join(MOUNTPOINT, 'My Drive', 'Doc_classification_cnn')\n",
    "drive.mount(MOUNTPOINT)"
   ]
  },
  {
   "cell_type": "code",
   "execution_count": 5,
   "metadata": {
    "id": "zKVva_BaJUsW"
   },
   "outputs": [],
   "source": [
    "path=os.path.join(DATADIR, 'preprocess_data.csv')"
   ]
  },
  {
   "cell_type": "code",
   "execution_count": 6,
   "metadata": {
    "colab": {
     "base_uri": "https://localhost:8080/",
     "height": 354
    },
    "id": "GcWDSdYkJnec",
    "outputId": "8da68ed9-c2c0-427a-810c-2456408b43f4"
   },
   "outputs": [
    {
     "data": {
      "text/html": [
       "\n",
       "  <div id=\"df-1065efb3-364e-4b6f-b1e3-00001c646de8\">\n",
       "    <div class=\"colab-df-container\">\n",
       "      <div>\n",
       "<style scoped>\n",
       "    .dataframe tbody tr th:only-of-type {\n",
       "        vertical-align: middle;\n",
       "    }\n",
       "\n",
       "    .dataframe tbody tr th {\n",
       "        vertical-align: top;\n",
       "    }\n",
       "\n",
       "    .dataframe thead th {\n",
       "        text-align: right;\n",
       "    }\n",
       "</style>\n",
       "<table border=\"1\" class=\"dataframe\">\n",
       "  <thead>\n",
       "    <tr style=\"text-align: right;\">\n",
       "      <th></th>\n",
       "      <th>Unnamed: 0</th>\n",
       "      <th>text</th>\n",
       "      <th>class</th>\n",
       "      <th>preprocess_text</th>\n",
       "      <th>preprocess_subject</th>\n",
       "      <th>preprocess_emails</th>\n",
       "    </tr>\n",
       "  </thead>\n",
       "  <tbody>\n",
       "    <tr>\n",
       "      <th>0</th>\n",
       "      <td>0</td>\n",
       "      <td>b'From: paul@hsh.com (Paul Havemann)\\nSubject:...</td>\n",
       "      <td>18</td>\n",
       "      <td>article the news last night was bashing the re...</td>\n",
       "      <td>Clinton 's immunization program</td>\n",
       "      <td>hsh ncratl AtlantaGA NCR ncratl AtlantaGA NCR</td>\n",
       "    </tr>\n",
       "    <tr>\n",
       "      <th>1</th>\n",
       "      <td>1</td>\n",
       "      <td>b'From: as010b@uhura.cc.rochester.edu (Tree of...</td>\n",
       "      <td>18</td>\n",
       "      <td>find very interesting that you say there will ...</td>\n",
       "      <td>New Study Out On Gay Percentage</td>\n",
       "      <td>uhura rochester edu network ucsd edu sdcc13 uc...</td>\n",
       "    </tr>\n",
       "    <tr>\n",
       "      <th>2</th>\n",
       "      <td>2</td>\n",
       "      <td>b'From: an030@cleveland.Freenet.Edu (Broward H...</td>\n",
       "      <td>18</td>\n",
       "      <td>previous article this too ridiculous way can t...</td>\n",
       "      <td>Janet Reno killed the Waco children</td>\n",
       "      <td>cleveland Freenet Edu wente llnl gov</td>\n",
       "    </tr>\n",
       "    <tr>\n",
       "      <th>3</th>\n",
       "      <td>3</td>\n",
       "      <td>b'From: jmorriso@rflab.ee.ubc.ca (John Paul Mo...</td>\n",
       "      <td>18</td>\n",
       "      <td>article more likely than most places when was ...</td>\n",
       "      <td>Limiting Govt was Re Employment was Re Why not...</td>\n",
       "      <td>rflab ubc rigel tamu edu rigel tamu edu ubc</td>\n",
       "    </tr>\n",
       "    <tr>\n",
       "      <th>4</th>\n",
       "      <td>4</td>\n",
       "      <td>b'From: kaldis@romulus.rutgers.edu (Theodore A...</td>\n",
       "      <td>18</td>\n",
       "      <td>perhaps but most likely not more than new stud...</td>\n",
       "      <td>How many homosexuals are there</td>\n",
       "      <td>romulus rutgers edu remus rutgers edu</td>\n",
       "    </tr>\n",
       "  </tbody>\n",
       "</table>\n",
       "</div>\n",
       "      <button class=\"colab-df-convert\" onclick=\"convertToInteractive('df-1065efb3-364e-4b6f-b1e3-00001c646de8')\"\n",
       "              title=\"Convert this dataframe to an interactive table.\"\n",
       "              style=\"display:none;\">\n",
       "        \n",
       "  <svg xmlns=\"http://www.w3.org/2000/svg\" height=\"24px\"viewBox=\"0 0 24 24\"\n",
       "       width=\"24px\">\n",
       "    <path d=\"M0 0h24v24H0V0z\" fill=\"none\"/>\n",
       "    <path d=\"M18.56 5.44l.94 2.06.94-2.06 2.06-.94-2.06-.94-.94-2.06-.94 2.06-2.06.94zm-11 1L8.5 8.5l.94-2.06 2.06-.94-2.06-.94L8.5 2.5l-.94 2.06-2.06.94zm10 10l.94 2.06.94-2.06 2.06-.94-2.06-.94-.94-2.06-.94 2.06-2.06.94z\"/><path d=\"M17.41 7.96l-1.37-1.37c-.4-.4-.92-.59-1.43-.59-.52 0-1.04.2-1.43.59L10.3 9.45l-7.72 7.72c-.78.78-.78 2.05 0 2.83L4 21.41c.39.39.9.59 1.41.59.51 0 1.02-.2 1.41-.59l7.78-7.78 2.81-2.81c.8-.78.8-2.07 0-2.86zM5.41 20L4 18.59l7.72-7.72 1.47 1.35L5.41 20z\"/>\n",
       "  </svg>\n",
       "      </button>\n",
       "      \n",
       "  <style>\n",
       "    .colab-df-container {\n",
       "      display:flex;\n",
       "      flex-wrap:wrap;\n",
       "      gap: 12px;\n",
       "    }\n",
       "\n",
       "    .colab-df-convert {\n",
       "      background-color: #E8F0FE;\n",
       "      border: none;\n",
       "      border-radius: 50%;\n",
       "      cursor: pointer;\n",
       "      display: none;\n",
       "      fill: #1967D2;\n",
       "      height: 32px;\n",
       "      padding: 0 0 0 0;\n",
       "      width: 32px;\n",
       "    }\n",
       "\n",
       "    .colab-df-convert:hover {\n",
       "      background-color: #E2EBFA;\n",
       "      box-shadow: 0px 1px 2px rgba(60, 64, 67, 0.3), 0px 1px 3px 1px rgba(60, 64, 67, 0.15);\n",
       "      fill: #174EA6;\n",
       "    }\n",
       "\n",
       "    [theme=dark] .colab-df-convert {\n",
       "      background-color: #3B4455;\n",
       "      fill: #D2E3FC;\n",
       "    }\n",
       "\n",
       "    [theme=dark] .colab-df-convert:hover {\n",
       "      background-color: #434B5C;\n",
       "      box-shadow: 0px 1px 3px 1px rgba(0, 0, 0, 0.15);\n",
       "      filter: drop-shadow(0px 1px 2px rgba(0, 0, 0, 0.3));\n",
       "      fill: #FFFFFF;\n",
       "    }\n",
       "  </style>\n",
       "\n",
       "      <script>\n",
       "        const buttonEl =\n",
       "          document.querySelector('#df-1065efb3-364e-4b6f-b1e3-00001c646de8 button.colab-df-convert');\n",
       "        buttonEl.style.display =\n",
       "          google.colab.kernel.accessAllowed ? 'block' : 'none';\n",
       "\n",
       "        async function convertToInteractive(key) {\n",
       "          const element = document.querySelector('#df-1065efb3-364e-4b6f-b1e3-00001c646de8');\n",
       "          const dataTable =\n",
       "            await google.colab.kernel.invokeFunction('convertToInteractive',\n",
       "                                                     [key], {});\n",
       "          if (!dataTable) return;\n",
       "\n",
       "          const docLinkHtml = 'Like what you see? Visit the ' +\n",
       "            '<a target=\"_blank\" href=https://colab.research.google.com/notebooks/data_table.ipynb>data table notebook</a>'\n",
       "            + ' to learn more about interactive tables.';\n",
       "          element.innerHTML = '';\n",
       "          dataTable['output_type'] = 'display_data';\n",
       "          await google.colab.output.renderOutput(dataTable, element);\n",
       "          const docLink = document.createElement('div');\n",
       "          docLink.innerHTML = docLinkHtml;\n",
       "          element.appendChild(docLink);\n",
       "        }\n",
       "      </script>\n",
       "    </div>\n",
       "  </div>\n",
       "  "
      ],
      "text/plain": [
       "   Unnamed: 0                                               text  class  \\\n",
       "0           0  b'From: paul@hsh.com (Paul Havemann)\\nSubject:...     18   \n",
       "1           1  b'From: as010b@uhura.cc.rochester.edu (Tree of...     18   \n",
       "2           2  b'From: an030@cleveland.Freenet.Edu (Broward H...     18   \n",
       "3           3  b'From: jmorriso@rflab.ee.ubc.ca (John Paul Mo...     18   \n",
       "4           4  b'From: kaldis@romulus.rutgers.edu (Theodore A...     18   \n",
       "\n",
       "                                     preprocess_text  \\\n",
       "0  article the news last night was bashing the re...   \n",
       "1  find very interesting that you say there will ...   \n",
       "2  previous article this too ridiculous way can t...   \n",
       "3  article more likely than most places when was ...   \n",
       "4  perhaps but most likely not more than new stud...   \n",
       "\n",
       "                                  preprocess_subject  \\\n",
       "0                    Clinton 's immunization program   \n",
       "1                    New Study Out On Gay Percentage   \n",
       "2                Janet Reno killed the Waco children   \n",
       "3  Limiting Govt was Re Employment was Re Why not...   \n",
       "4                     How many homosexuals are there   \n",
       "\n",
       "                                   preprocess_emails  \n",
       "0      hsh ncratl AtlantaGA NCR ncratl AtlantaGA NCR  \n",
       "1  uhura rochester edu network ucsd edu sdcc13 uc...  \n",
       "2               cleveland Freenet Edu wente llnl gov  \n",
       "3        rflab ubc rigel tamu edu rigel tamu edu ubc  \n",
       "4              romulus rutgers edu remus rutgers edu  "
      ]
     },
     "execution_count": 6,
     "metadata": {},
     "output_type": "execute_result"
    }
   ],
   "source": [
    "df_process = pd.read_csv(path)\n",
    "df_process.head()"
   ]
  },
  {
   "cell_type": "code",
   "execution_count": 7,
   "metadata": {
    "colab": {
     "base_uri": "https://localhost:8080/"
    },
    "id": "I31xrC4zKF-5",
    "outputId": "0e2c4547-01b2-41e9-8348-b6fe99df8ce0"
   },
   "outputs": [
    {
     "data": {
      "text/plain": [
       "(18828, 6)"
      ]
     },
     "execution_count": 7,
     "metadata": {},
     "output_type": "execute_result"
    }
   ],
   "source": [
    "df_process.shape"
   ]
  },
  {
   "cell_type": "code",
   "execution_count": 8,
   "metadata": {
    "colab": {
     "base_uri": "https://localhost:8080/"
    },
    "id": "RcXhRIk2HWdE",
    "outputId": "0a3000d5-94b3-4dbf-eab7-ad1424a59993"
   },
   "outputs": [
    {
     "data": {
      "text/plain": [
       "Unnamed: 0             0\n",
       "text                   0\n",
       "class                  0\n",
       "preprocess_text       42\n",
       "preprocess_subject     4\n",
       "preprocess_emails     52\n",
       "dtype: int64"
      ]
     },
     "execution_count": 8,
     "metadata": {},
     "output_type": "execute_result"
    }
   ],
   "source": [
    "df_process.isnull().sum()"
   ]
  },
  {
   "cell_type": "markdown",
   "metadata": {
    "id": "JcdttcB-PjW0"
   },
   "source": [
    "**These null values are just empty strings. Values becomes NaN when we saved the file to csv.**"
   ]
  },
  {
   "cell_type": "code",
   "execution_count": 9,
   "metadata": {
    "id": "RzlIqUwD197i"
   },
   "outputs": [],
   "source": [
    "df_process = df_process.fillna(\" \")"
   ]
  },
  {
   "cell_type": "code",
   "execution_count": 10,
   "metadata": {
    "colab": {
     "base_uri": "https://localhost:8080/"
    },
    "id": "pFz61oeX2PzN",
    "outputId": "ad7e51d8-bf8b-4f0d-c6ae-728f7670f12f"
   },
   "outputs": [
    {
     "data": {
      "text/plain": [
       "Unnamed: 0            0\n",
       "text                  0\n",
       "class                 0\n",
       "preprocess_text       0\n",
       "preprocess_subject    0\n",
       "preprocess_emails     0\n",
       "dtype: int64"
      ]
     },
     "execution_count": 10,
     "metadata": {},
     "output_type": "execute_result"
    }
   ],
   "source": [
    "df_process.isnull().sum()"
   ]
  },
  {
   "cell_type": "code",
   "execution_count": 11,
   "metadata": {
    "id": "A7jQyX2CKQrD"
   },
   "outputs": [],
   "source": [
    "final_df = pd.DataFrame()\n",
    "final_df['data'] = df_process['preprocess_text'] + df_process['preprocess_subject'] + df_process['preprocess_emails']\n",
    "final_df['class'] = df_process['class']"
   ]
  },
  {
   "cell_type": "code",
   "execution_count": 12,
   "metadata": {
    "id": "UvhsgrHSN1e3"
   },
   "outputs": [],
   "source": [
    "X = final_df.drop(columns = ['class'])\n",
    "y = final_df['class']"
   ]
  },
  {
   "cell_type": "code",
   "execution_count": 13,
   "metadata": {
    "id": "ivj2sL1wN3v4"
   },
   "outputs": [],
   "source": [
    "from sklearn.model_selection import train_test_split\n",
    "X_train, X_test, y_train, y_test = train_test_split(X,y, test_size = 0.25, stratify = y, random_state = 50)"
   ]
  },
  {
   "cell_type": "code",
   "execution_count": 14,
   "metadata": {
    "id": "yHdBoAyR21Zl"
   },
   "outputs": [],
   "source": [
    "y_train = np.array(y_train).reshape(-1,1)\n",
    "y_test = np.array(y_test).reshape(-1,1)"
   ]
  },
  {
   "cell_type": "code",
   "execution_count": 15,
   "metadata": {
    "id": "OarshsOZi0af"
   },
   "outputs": [],
   "source": [
    "max_len = -1\n",
    "\n",
    "for i in range(X_train.shape[0]):\n",
    "    d = X_train.iloc[i,0]\n",
    "    l = len(d.split())\n",
    "\n",
    "    if l > max_len:\n",
    "        max_len = l"
   ]
  },
  {
   "cell_type": "code",
   "execution_count": 16,
   "metadata": {
    "id": "q0LOk5cjPP89"
   },
   "outputs": [],
   "source": [
    "t = Tokenizer(\n",
    "    num_words=None,\n",
    "    filters='!\"#$%&()*+,-./:;<=>?@[\\\\]^`{|}~\\t\\n',\n",
    "    lower=True,\n",
    "    split=' ',\n",
    "    char_level=False,\n",
    "    oov_token=None,\n",
    "    analyzer=None,\n",
    ")\n",
    "\n",
    "t.fit_on_texts(list(X_train.iloc[:,0]))\n",
    "encoded_train = t.texts_to_sequences(list(X_train.iloc[:,0]))\n",
    "\n",
    "Xtrain = pad_sequences(encoded_train, maxlen=max_len, padding='post')"
   ]
  },
  {
   "cell_type": "code",
   "execution_count": 17,
   "metadata": {
    "colab": {
     "base_uri": "https://localhost:8080/"
    },
    "id": "LmMqU2fC09KZ",
    "outputId": "39634d90-0a68-4ac1-dd6e-8857d4076c9c"
   },
   "outputs": [
    {
     "data": {
      "text/plain": [
       "(14121, 9093)"
      ]
     },
     "execution_count": 17,
     "metadata": {},
     "output_type": "execute_result"
    }
   ],
   "source": [
    "Xtrain.shape"
   ]
  },
  {
   "cell_type": "code",
   "execution_count": 18,
   "metadata": {
    "id": "_tcc-uWWiReq"
   },
   "outputs": [],
   "source": [
    "encoded_test = t.texts_to_sequences(list(X_test.iloc[:,0]))\n",
    "Xtest = pad_sequences(encoded_test, maxlen=max_len, padding='post')"
   ]
  },
  {
   "cell_type": "code",
   "execution_count": 19,
   "metadata": {
    "colab": {
     "base_uri": "https://localhost:8080/"
    },
    "id": "JivHp8os7yAb",
    "outputId": "2331f4e4-54e2-4ee0-8348-5ad9760ccfc7"
   },
   "outputs": [
    {
     "data": {
      "text/plain": [
       "(4707, 9093)"
      ]
     },
     "execution_count": 19,
     "metadata": {},
     "output_type": "execute_result"
    }
   ],
   "source": [
    "Xtest.shape"
   ]
  },
  {
   "cell_type": "code",
   "execution_count": 20,
   "metadata": {
    "colab": {
     "base_uri": "https://localhost:8080/"
    },
    "id": "Wm8TEQ5DLRS9",
    "outputId": "6c48e589-cebd-46fb-91f6-ac1ede7af859"
   },
   "outputs": [
    {
     "name": "stdout",
     "output_type": "stream",
     "text": [
      "Drive already mounted at /content/gdrive; to attempt to forcibly remount, call drive.mount(\"/content/gdrive\", force_remount=True).\n"
     ]
    }
   ],
   "source": [
    "import os\n",
    "from google.colab import drive\n",
    "MOUNTPOINT = '/content/gdrive'\n",
    "DATADIR = os.path.join(MOUNTPOINT, 'My Drive', 'Doc_classification_cnn')\n",
    "drive.mount(MOUNTPOINT)"
   ]
  },
  {
   "cell_type": "code",
   "execution_count": 21,
   "metadata": {
    "id": "GticbDXC7fQB"
   },
   "outputs": [],
   "source": [
    "path=os.path.join(DATADIR, 'glove.6B.100d.txt')"
   ]
  },
  {
   "cell_type": "code",
   "execution_count": 22,
   "metadata": {
    "id": "3Y2vxsXVBHnN"
   },
   "outputs": [],
   "source": [
    "embeddings_index = dict()\n",
    "f = open(path)\n",
    "for line in f:\n",
    " values = line.split()\n",
    " word = values[0]\n",
    " coefs = np.array(values[1:], dtype='float32')\n",
    " embeddings_index[word] = coefs\n",
    "f.close()"
   ]
  },
  {
   "cell_type": "code",
   "execution_count": 23,
   "metadata": {
    "id": "ybzGn18GBRLS"
   },
   "outputs": [],
   "source": [
    "from tensorflow.keras.layers import Embedding\n",
    "# Code Reference: https://machinelearningmastery.com/use-word-embedding-layers-deep-learning-keras/\n",
    "vocab_size = len(t.word_index) + 1\n",
    "\n",
    "# create a weight matrix for words in training docs\n",
    "embedding_matrix = np.zeros((vocab_size, 100))\n",
    "for word, i in t.word_index.items():\n",
    "    embedding_vector = embeddings_index.get(word)\n",
    "    if embedding_vector is not None:\n",
    "        embedding_matrix[i] = embedding_vector\n",
    "\n",
    "e = Embedding(vocab_size, 100, weights=[embedding_matrix], input_length= max_len, trainable=False)"
   ]
  },
  {
   "cell_type": "markdown",
   "metadata": {
    "id": "IdOJA0iLMGjA"
   },
   "source": [
    "## Model-1"
   ]
  },
  {
   "cell_type": "code",
   "execution_count": 24,
   "metadata": {
    "id": "ZaRHRdEHDzOM"
   },
   "outputs": [],
   "source": [
    "from sklearn.metrics import f1_score\n",
    "# Code Reference: Sample notebook\n",
    "class performance_metric(tf.keras.callbacks.Callback):\n",
    "\n",
    "    def __init__(self,validation_data):\n",
    "      self.x_test = validation_data[0]\n",
    "      self.y_test= validation_data[1]\n",
    "\n",
    "\n",
    "    def on_train_begin(self, logs={}):\n",
    "        ## on begin of training, we are creating a instance varible called history\n",
    "        ## it is a dict with keys [loss, acc, val_loss, val_acc]\n",
    "        self.history={'f1_micro_val': [],'val_accuracy' : []}\n",
    "\n",
    "    def on_epoch_end(self, epoch, logs = {}):\n",
    "\n",
    "        if logs.get('val_accuracy', -1) != -1:\n",
    "            self.history['val_accuracy'].append(logs.get('val_accuracy'))\n",
    "\n",
    "        test_pred= self.model.predict(self.x_test)\n",
    "        pred_labels = []\n",
    "        for probs in test_pred:\n",
    "            label = np.argmax(probs, axis=-1)\n",
    "            pred_labels.append(int(label))\n",
    "\n",
    "        f1_test = f1_score(y_test , np.array(pred_labels) , average = 'micro')\n",
    "        \n",
    "        self.history['f1_micro_val'].append(f1_test)\n",
    "        print(\"F1_micro: \", f1_test)\n",
    "\n",
    "metrics = performance_metric(validation_data=[Xtest,y_test])"
   ]
  },
  {
   "cell_type": "code",
   "execution_count": 25,
   "metadata": {
    "id": "aa0S0zTJWuz3"
   },
   "outputs": [],
   "source": [
    "from tensorflow.keras.callbacks import ModelCheckpoint\n",
    "\n",
    "filepath=\"best_model_1/weights-{epoch:02d}-{val_accuracy:.4f}.h5\"\n",
    "checkpoint = ModelCheckpoint(filepath=filepath, monitor='val_accuracy',  verbose=1, save_best_only=True, mode='max')"
   ]
  },
  {
   "cell_type": "code",
   "execution_count": 25,
   "metadata": {
    "id": "rFk12AWiZ81G"
   },
   "outputs": [],
   "source": [
    "from tensorflow.keras.callbacks import EarlyStopping\n",
    "\n",
    "earlystop = EarlyStopping(monitor='val_accuracy',patience=2, verbose=1)"
   ]
  },
  {
   "cell_type": "code",
   "execution_count": 26,
   "metadata": {
    "id": "hEwXhspNaMAQ"
   },
   "outputs": [],
   "source": [
    "%load_ext tensorboard"
   ]
  },
  {
   "cell_type": "code",
   "execution_count": 27,
   "metadata": {
    "id": "sCpoLMkPaVE-"
   },
   "outputs": [],
   "source": [
    "!rm -rf ./logs/"
   ]
  },
  {
   "cell_type": "code",
   "execution_count": 28,
   "metadata": {
    "id": "BhCnSMvtaVCA"
   },
   "outputs": [],
   "source": [
    "import os\n",
    "import datetime\n",
    "log_dir = os.path.join(\"logs\",'fits', datetime.datetime.now().strftime(\"%Y%m%d-%H%M%S\"))\n",
    "tensorboard_callback = tf.keras.callbacks.TensorBoard(log_dir=log_dir,histogram_freq=1,write_graph=True)"
   ]
  },
  {
   "cell_type": "code",
   "execution_count": 29,
   "metadata": {
    "id": "_dDlYdA-aU_X"
   },
   "outputs": [],
   "source": []
  },
  {
   "cell_type": "code",
   "execution_count": 29,
   "metadata": {
    "id": "XmA9KaP8aL89"
   },
   "outputs": [],
   "source": []
  },
  {
   "cell_type": "code",
   "execution_count": 30,
   "metadata": {
    "colab": {
     "base_uri": "https://localhost:8080/"
    },
    "id": "Q4kzOfpoGP4N",
    "outputId": "9791a5fd-edbd-4132-be73-b9a63e77328a"
   },
   "outputs": [
    {
     "name": "stdout",
     "output_type": "stream",
     "text": [
      "Epoch 1/10\n",
      "  6/442 [..............................] - ETA: 41s - loss: 3.0045 - accuracy: 0.0260"
     ]
    },
    {
     "name": "stderr",
     "output_type": "stream",
     "text": [
      "WARNING:tensorflow:Callback method `on_train_batch_end` is slow compared to the batch time (batch time: 0.0255s vs `on_train_batch_end` time: 0.0587s). Check your callbacks.\n"
     ]
    },
    {
     "name": "stdout",
     "output_type": "stream",
     "text": [
      "148/148 [==============================] - 3s 22ms/step\n",
      "F1_micro:  0.22052262587635438\n",
      "\n",
      "Epoch 1: val_accuracy improved from -inf to 0.22052, saving model to best_model_1/weights-01-0.2205.h5\n",
      "442/442 [==============================] - 56s 117ms/step - loss: 2.7596 - accuracy: 0.1096 - val_loss: 2.2085 - val_accuracy: 0.2205\n",
      "Epoch 2/10\n",
      "148/148 [==============================] - 3s 22ms/step\n",
      "F1_micro:  0.3707244529424262\n",
      "\n",
      "Epoch 2: val_accuracy improved from 0.22052 to 0.37072, saving model to best_model_1/weights-02-0.3707.h5\n",
      "442/442 [==============================] - 52s 118ms/step - loss: 2.0152 - accuracy: 0.2942 - val_loss: 1.7882 - val_accuracy: 0.3707\n",
      "Epoch 3/10\n",
      "148/148 [==============================] - 3s 22ms/step\n",
      "F1_micro:  0.4234119396643297\n",
      "\n",
      "Epoch 3: val_accuracy improved from 0.37072 to 0.42341, saving model to best_model_1/weights-03-0.4234.h5\n",
      "442/442 [==============================] - 50s 114ms/step - loss: 1.7083 - accuracy: 0.3937 - val_loss: 1.5932 - val_accuracy: 0.4234\n",
      "Epoch 4/10\n",
      "148/148 [==============================] - 3s 22ms/step\n",
      "F1_micro:  0.502018270660718\n",
      "\n",
      "Epoch 4: val_accuracy improved from 0.42341 to 0.50202, saving model to best_model_1/weights-04-0.5020.h5\n",
      "442/442 [==============================] - 51s 114ms/step - loss: 1.4866 - accuracy: 0.4631 - val_loss: 1.4342 - val_accuracy: 0.5020\n",
      "Epoch 5/10\n",
      "148/148 [==============================] - 3s 22ms/step\n",
      "F1_micro:  0.5056299128956873\n",
      "\n",
      "Epoch 5: val_accuracy improved from 0.50202 to 0.50563, saving model to best_model_1/weights-05-0.5056.h5\n",
      "442/442 [==============================] - 54s 122ms/step - loss: 1.3143 - accuracy: 0.5319 - val_loss: 1.4352 - val_accuracy: 0.5056\n",
      "Epoch 6/10\n",
      "148/148 [==============================] - 3s 22ms/step\n",
      "F1_micro:  0.5168897386870618\n",
      "\n",
      "Epoch 6: val_accuracy improved from 0.50563 to 0.51689, saving model to best_model_1/weights-06-0.5169.h5\n",
      "442/442 [==============================] - 54s 122ms/step - loss: 1.2131 - accuracy: 0.5708 - val_loss: 1.4420 - val_accuracy: 0.5169\n",
      "Epoch 7/10\n",
      "148/148 [==============================] - 3s 22ms/step\n",
      "F1_micro:  0.5506692160611855\n",
      "\n",
      "Epoch 7: val_accuracy improved from 0.51689 to 0.55067, saving model to best_model_1/weights-07-0.5507.h5\n",
      "442/442 [==============================] - 52s 118ms/step - loss: 1.0825 - accuracy: 0.6136 - val_loss: 1.3175 - val_accuracy: 0.5507\n",
      "Epoch 8/10\n",
      "148/148 [==============================] - 3s 22ms/step\n",
      "F1_micro:  0.5600169959634587\n",
      "\n",
      "Epoch 8: val_accuracy improved from 0.55067 to 0.56002, saving model to best_model_1/weights-08-0.5600.h5\n",
      "442/442 [==============================] - 52s 118ms/step - loss: 1.0483 - accuracy: 0.6337 - val_loss: 1.2985 - val_accuracy: 0.5600\n",
      "Epoch 9/10\n",
      "148/148 [==============================] - 3s 22ms/step\n",
      "F1_micro:  0.5755258126195029\n",
      "\n",
      "Epoch 9: val_accuracy improved from 0.56002 to 0.57553, saving model to best_model_1/weights-09-0.5755.h5\n",
      "442/442 [==============================] - 52s 118ms/step - loss: 0.9265 - accuracy: 0.6609 - val_loss: 1.3270 - val_accuracy: 0.5755\n",
      "Epoch 10/10\n",
      "148/148 [==============================] - 3s 22ms/step\n",
      "F1_micro:  0.579987253027406\n",
      "\n",
      "Epoch 10: val_accuracy improved from 0.57553 to 0.57999, saving model to best_model_1/weights-10-0.5800.h5\n",
      "442/442 [==============================] - 54s 122ms/step - loss: 0.8484 - accuracy: 0.6825 - val_loss: 1.3339 - val_accuracy: 0.5800\n"
     ]
    },
    {
     "data": {
      "text/plain": [
       "<keras.callbacks.History at 0x7f51900de6d0>"
      ]
     },
     "execution_count": 30,
     "metadata": {},
     "output_type": "execute_result"
    }
   ],
   "source": [
    "input_ = Input(shape=(9093,))\n",
    "embedding = Embedding(vocab_size, 100, weights=[embedding_matrix], input_length= max_len, trainable=False)(input_)\n",
    "\n",
    "conv1_1 = Conv1D(filters=16, kernel_size=10, activation='relu', padding = 'same')(embedding)\n",
    "conv1_2 = Conv1D(filters=8, kernel_size=10, activation='relu', padding = 'same')(embedding)\n",
    "conv1_3 = Conv1D(filters= 4, kernel_size=10, activation='relu', padding = 'same')(embedding)\n",
    "\n",
    "concat1 = concatenate([conv1_1, conv1_2, conv1_3] , axis = -1)\n",
    "max_pool1 = MaxPool1D()(concat1)\n",
    "\n",
    "conv2_1 = Conv1D(filters=8, kernel_size=10, activation='relu', padding = 'same')(max_pool1)\n",
    "conv2_2 = Conv1D(filters=4, kernel_size=10, activation='relu', padding = 'same')(max_pool1)\n",
    "conv2_3 = Conv1D(filters=2, kernel_size=10, activation='relu', padding = 'same')(max_pool1)\n",
    "\n",
    "concat2 = concatenate([conv2_1, conv2_2, conv2_3], axis = -1)\n",
    "max_pool2 = MaxPool1D()(concat2)\n",
    "\n",
    "conv3 = Conv1D(filters=8, kernel_size=10, activation='relu')(max_pool2)\n",
    "\n",
    "flatten = Flatten()(conv3)\n",
    "drop = Dropout(0.2)(flatten)\n",
    "dense = Dense(8, activation=\"relu\")(drop)\n",
    "\n",
    "output = Dense(20, activation=\"softmax\", name=\"output\")(dense)\n",
    "\n",
    "model1 = Model(inputs=[input_], outputs=[output])\n",
    "\n",
    "callback_list = [metrics,checkpoint, earlystop, tensorboard_callback ]\n",
    "\n",
    "model1.compile(optimizer=tf.keras.optimizers.Adam(0.001),\n",
    "              loss= 'sparse_categorical_crossentropy' ,metrics=['accuracy'])\n",
    "\n",
    "model1.fit(Xtrain,y_train, epochs=10, validation_data = (Xtest,y_test) , callbacks = callback_list)"
   ]
  },
  {
   "cell_type": "code",
   "execution_count": 30,
   "metadata": {
    "id": "VB882VgrvT-H"
   },
   "outputs": [],
   "source": []
  },
  {
   "cell_type": "code",
   "execution_count": 30,
   "metadata": {
    "id": "z40pjOvLvT7D"
   },
   "outputs": [],
   "source": []
  },
  {
   "cell_type": "code",
   "execution_count": 32,
   "metadata": {
    "colab": {
     "base_uri": "https://localhost:8080/",
     "height": 1000
    },
    "id": "HclQGDN3bSHy",
    "outputId": "050d0034-56e5-45e7-dd6e-66a1d57e495b"
   },
   "outputs": [
    {
     "data": {
      "image/png": "[encoded data removed]",
      "text/plain": [
       "<IPython.core.display.Image object>"
      ]
     },
     "execution_count": 32,
     "metadata": {},
     "output_type": "execute_result"
    }
   ],
   "source": [
    "tf.keras.utils.plot_model(\n",
    "    model1,\n",
    "    to_file='model1.png',\n",
    "    show_shapes=True,\n",
    "    show_dtype=False,\n",
    "    show_layer_names=True,\n",
    "    rankdir='TB',\n",
    "    expand_nested=False,\n",
    "    dpi=96,\n",
    "    layer_range=None,\n",
    "    show_layer_activations=False\n",
    ")"
   ]
  },
  {
   "cell_type": "markdown",
   "metadata": {
    "id": "6OzkQLp4BBiB"
   },
   "source": [
    "## Model 2"
   ]
  },
  {
   "cell_type": "code",
   "execution_count": 30,
   "metadata": {
    "id": "skI_IpI8qVHn"
   },
   "outputs": [],
   "source": [
    "from tensorflow.keras.callbacks import ModelCheckpoint\n",
    "\n",
    "filepath1=\"best_model_2/weights-{epoch:02d}-{val_accuracy:.4f}.h5\"\n",
    "checkpoint1 = ModelCheckpoint(filepath=filepath1, monitor='val_accuracy',  verbose=1, save_best_only=True, mode='max')"
   ]
  },
  {
   "cell_type": "code",
   "execution_count": 31,
   "metadata": {
    "colab": {
     "base_uri": "https://localhost:8080/"
    },
    "id": "7eAdL1r4zyEb",
    "outputId": "9fa32e7e-717a-4f85-b82c-bb5569d361c9"
   },
   "outputs": [
    {
     "name": "stdout",
     "output_type": "stream",
     "text": [
      "Epoch 1/10\n",
      "  5/442 [..............................] - ETA: 15s - loss: 2.9916 - accuracy: 0.0500"
     ]
    },
    {
     "name": "stderr",
     "output_type": "stream",
     "text": [
      "WARNING:tensorflow:Callback method `on_train_batch_end` is slow compared to the batch time (batch time: 0.0109s vs `on_train_batch_end` time: 0.0222s). Check your callbacks.\n"
     ]
    },
    {
     "name": "stdout",
     "output_type": "stream",
     "text": [
      "148/148 [==============================] - 1s 9ms/step\n",
      "F1_micro:  0.10537497344380711\n",
      "\n",
      "Epoch 1: val_accuracy improved from -inf to 0.10537, saving model to best_model_2/weights-01-0.1054.h5\n",
      "442/442 [==============================] - 26s 52ms/step - loss: 2.8074 - accuracy: 0.0996 - val_loss: 2.6354 - val_accuracy: 0.1054\n",
      "Epoch 2/10\n",
      "148/148 [==============================] - 1s 9ms/step\n",
      "F1_micro:  0.13171871680475886\n",
      "\n",
      "Epoch 2: val_accuracy improved from 0.10537 to 0.13172, saving model to best_model_2/weights-02-0.1317.h5\n",
      "442/442 [==============================] - 22s 49ms/step - loss: 2.5381 - accuracy: 0.1258 - val_loss: 2.4655 - val_accuracy: 0.1317\n",
      "Epoch 3/10\n",
      "148/148 [==============================] - 1s 9ms/step\n",
      "F1_micro:  0.16146165285744635\n",
      "\n",
      "Epoch 3: val_accuracy improved from 0.13172 to 0.16146, saving model to best_model_2/weights-03-0.1615.h5\n",
      "442/442 [==============================] - 21s 48ms/step - loss: 2.4067 - accuracy: 0.1625 - val_loss: 2.3837 - val_accuracy: 0.1615\n",
      "Epoch 4/10\n",
      "148/148 [==============================] - 1s 9ms/step\n",
      "F1_micro:  0.21499893775228382\n",
      "\n",
      "Epoch 4: val_accuracy improved from 0.16146 to 0.21500, saving model to best_model_2/weights-04-0.2150.h5\n",
      "442/442 [==============================] - 21s 47ms/step - loss: 2.2632 - accuracy: 0.2044 - val_loss: 2.2323 - val_accuracy: 0.2150\n",
      "Epoch 5/10\n",
      "148/148 [==============================] - 1s 9ms/step\n",
      "F1_micro:  0.22710856171659233\n",
      "\n",
      "Epoch 5: val_accuracy improved from 0.21500 to 0.22711, saving model to best_model_2/weights-05-0.2271.h5\n",
      "442/442 [==============================] - 20s 45ms/step - loss: 2.1513 - accuracy: 0.2421 - val_loss: 2.1618 - val_accuracy: 0.2271\n",
      "Epoch 6/10\n",
      "148/148 [==============================] - 1s 9ms/step\n",
      "F1_micro:  0.2532398555343106\n",
      "\n",
      "Epoch 6: val_accuracy improved from 0.22711 to 0.25324, saving model to best_model_2/weights-06-0.2532.h5\n",
      "442/442 [==============================] - 21s 47ms/step - loss: 2.0441 - accuracy: 0.2682 - val_loss: 2.0952 - val_accuracy: 0.2532\n",
      "Epoch 7/10\n",
      "148/148 [==============================] - 1s 9ms/step\n",
      "F1_micro:  0.2517527087316762\n",
      "\n",
      "Epoch 7: val_accuracy did not improve from 0.25324\n",
      "442/442 [==============================] - 21s 47ms/step - loss: 1.9762 - accuracy: 0.2857 - val_loss: 2.1061 - val_accuracy: 0.2518\n",
      "Epoch 8/10\n",
      "148/148 [==============================] - 1s 9ms/step\n",
      "F1_micro:  0.2672615253877204\n",
      "\n",
      "Epoch 8: val_accuracy improved from 0.25324 to 0.26726, saving model to best_model_2/weights-08-0.2673.h5\n",
      "442/442 [==============================] - 22s 50ms/step - loss: 1.9067 - accuracy: 0.3014 - val_loss: 2.0544 - val_accuracy: 0.2673\n",
      "Epoch 9/10\n",
      "148/148 [==============================] - 1s 9ms/step\n",
      "F1_micro:  0.28255789250053115\n",
      "\n",
      "Epoch 9: val_accuracy improved from 0.26726 to 0.28256, saving model to best_model_2/weights-09-0.2826.h5\n",
      "442/442 [==============================] - 22s 50ms/step - loss: 1.8590 - accuracy: 0.3180 - val_loss: 2.0566 - val_accuracy: 0.2826\n",
      "Epoch 10/10\n",
      "148/148 [==============================] - 1s 9ms/step\n",
      "F1_micro:  0.28616953473550033\n",
      "\n",
      "Epoch 10: val_accuracy improved from 0.28256 to 0.28617, saving model to best_model_2/weights-10-0.2862.h5\n",
      "442/442 [==============================] - 22s 50ms/step - loss: 1.8023 - accuracy: 0.3321 - val_loss: 2.0825 - val_accuracy: 0.2862\n"
     ]
    },
    {
     "data": {
      "text/plain": [
       "<keras.callbacks.History at 0x7f73503fa790>"
      ]
     },
     "execution_count": 31,
     "metadata": {},
     "output_type": "execute_result"
    }
   ],
   "source": [
    "input_ = Input(shape=(9093,))\n",
    "embedding = Embedding(vocab_size, 100, weights=[embedding_matrix], input_length= max_len, trainable=False)(input_)\n",
    "\n",
    "conv1 = Conv1D(filters=8, kernel_size=10, activation='relu', padding = 'same')(embedding)\n",
    "conv2 = Conv1D(filters=4, kernel_size=10, activation='relu', padding = 'same')(conv1)\n",
    "max_pool1 = MaxPool1D()(conv2)\n",
    "\n",
    "conv3 = Conv1D(filters=6, kernel_size=10, activation='relu', padding = 'same')(max_pool1)\n",
    "conv4 = Conv1D(filters=3, kernel_size=10, activation='relu', padding = 'same')(conv3)\n",
    "max_pool2 = MaxPool1D()(conv4)\n",
    "\n",
    "flatten = Flatten()(max_pool2)\n",
    "drop = Dropout(0.2)(flatten)\n",
    "dense = Dense(8, activation=\"relu\")(drop)\n",
    "\n",
    "output = Dense(20, activation=\"softmax\", name=\"output\")(dense)\n",
    "\n",
    "model2 = Model(inputs=[input_], outputs=[output])\n",
    "\n",
    "callback_list = [metrics,checkpoint1, earlystop, tensorboard_callback ]\n",
    "\n",
    "\n",
    "model2.compile(optimizer=tf.keras.optimizers.Adam(0.001),\n",
    "              loss= 'sparse_categorical_crossentropy' ,metrics=['accuracy'])\n",
    "\n",
    "model2.fit(Xtrain,y_train, epochs=10, validation_data = (Xtest,y_test), callbacks = callback_list)"
   ]
  },
  {
   "cell_type": "code",
   "execution_count": 32,
   "metadata": {
    "colab": {
     "base_uri": "https://localhost:8080/",
     "height": 1000
    },
    "id": "PO-JJgRGo2Ti",
    "outputId": "d136418f-ab61-47ee-8db9-0e2dca1d2a4a"
   },
   "outputs": [
    {
     "data": {
      "image/png": "[encoded data removed]",
      "text/plain": [
       "<IPython.core.display.Image object>"
      ]
     },
     "execution_count": 32,
     "metadata": {},
     "output_type": "execute_result"
    }
   ],
   "source": [
    "tf.keras.utils.plot_model(\n",
    "    model2,\n",
    "    to_file='model2.png',\n",
    "    show_shapes=True,\n",
    "    show_dtype=False,\n",
    "    show_layer_names=True,\n",
    "    rankdir='TB',\n",
    "    expand_nested=False,\n",
    "    dpi=96,\n",
    "    layer_range=None,\n",
    "    show_layer_activations=False\n",
    ")"
   ]
  },
  {
   "cell_type": "code",
   "execution_count": null,
   "metadata": {
    "id": "kaSAfkharFdr"
   },
   "outputs": [],
   "source": []
  }
 ],
 "metadata": {
  "accelerator": "GPU",
  "colab": {
   "collapsed_sections": [
    "CHSdG3IdH9qJ"
   ],
   "provenance": []
  },
  "gpuClass": "standard",
  "kernelspec": {
   "display_name": "Python 3",
   "language": "python",
   "name": "python3"
  },
  "language_info": {
   "codemirror_mode": {
    "name": "ipython",
    "version": 3
   },
   "file_extension": ".py",
   "mimetype": "text/x-python",
   "name": "python",
   "nbconvert_exporter": "python",
   "pygments_lexer": "ipython3",
   "version": "3.9.7"
  }
 },
 "nbformat": 4,
 "nbformat_minor": 4
}
